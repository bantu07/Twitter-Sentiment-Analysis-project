{
 "cells": [
  {
   "cell_type": "raw",
   "metadata": {},
   "source": [
    "If the trigger argument is passed then the my_job function will run for multiple times"
   ]
  },
  {
   "cell_type": "code",
   "execution_count": 13,
   "metadata": {},
   "outputs": [
    {
     "name": "stdout",
     "output_type": "stream",
     "text": [
      "Hello World!\n"
     ]
    }
   ],
   "source": [
    "from datetime import date\n",
    "from apscheduler.schedulers.background import BackgroundScheduler as Scheduler\n",
    "from datetime import datetime\n",
    "\n",
    "# Start the scheduler\n",
    "sched = Scheduler()\n",
    "sched.start()\n",
    "\n",
    "# Define the function that is to be executed\n",
    "def my_job(text):\n",
    "    print(text)\n",
    "\n",
    "#Schedule job\n",
    "job = sched.add_job(my_job,next_run_time = datetime(2020, 4, 15, 13, 35, 50), args = ['Hello World!'])"
   ]
  },
  {
   "cell_type": "code",
   "execution_count": 12,
   "metadata": {},
   "outputs": [],
   "source": [
    "sched.pause()"
   ]
  },
  {
   "cell_type": "code",
   "execution_count": null,
   "metadata": {},
   "outputs": [],
   "source": []
  }
 ],
 "metadata": {
  "kernelspec": {
   "display_name": "Python 3",
   "language": "python",
   "name": "python3"
  },
  "language_info": {
   "codemirror_mode": {
    "name": "ipython",
    "version": 3
   },
   "file_extension": ".py",
   "mimetype": "text/x-python",
   "name": "python",
   "nbconvert_exporter": "python",
   "pygments_lexer": "ipython3",
   "version": "3.7.4"
  }
 },
 "nbformat": 4,
 "nbformat_minor": 2
}
